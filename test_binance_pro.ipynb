{
 "cells": [
  {
   "cell_type": "code",
   "execution_count": 28,
   "id": "d2057259",
   "metadata": {},
   "outputs": [],
   "source": [
    "import pandas as pd\n",
    "import numpy as np\n",
    "import polars as pl\n",
    "\n",
    "import matplotlib.pyplot as plt\n",
    "from scipy import stats\n",
    "\n",
    "df = pd.read_csv(\"cryptos.csv\", index_col=0, parse_dates=True)\n",
    "df.sort_index(inplace=True)\n",
    "ticker = \"BTCUSDT\"\n",
    "n_long = 1\n",
    "stop_loss = 0.05\n",
    "twenty_four_hours = 24\n",
    "\n",
    "df_all = df.copy()"
   ]
  },
  {
   "cell_type": "code",
   "execution_count": 29,
   "id": "bf312093",
   "metadata": {},
   "outputs": [],
   "source": [
    "def max_drawdown(cum_returns):\n",
    "    running_max = cum_returns.cummax()\n",
    "    drawdown = (cum_returns - running_max) / running_max\n",
    "    return drawdown.min()\n",
    "\n",
    "def run_backtest(lookback, trading_hours):\n",
    "    price = df[ticker]\n",
    "    momentum = price.pct_change(periods=lookback)\n",
    "    momentum_clean = momentum.dropna()\n",
    "    if len(momentum_clean) == 0:\n",
    "        return 0.0, 0.0, pd.DataFrame()\n",
    "    valid_start = momentum_clean.index[0]\n",
    "\n",
    "    signals = pd.Series(0, index=momentum.index)\n",
    "\n",
    "    lag = pd.Timedelta(hours=lookback)\n",
    "\n",
    "    i = 0\n",
    "    times = momentum.index\n",
    "    n = len(times)\n",
    "\n",
    "    while i < n:\n",
    "        current_time = times[i]\n",
    "\n",
    "        past_time = current_time - lag\n",
    "        if past_time in momentum.index:\n",
    "            if momentum[current_time] > momentum[past_time]:\n",
    "                signal_value = 1\n",
    "            elif momentum[current_time] < momentum[past_time]:\n",
    "                signal_value = -1\n",
    "            else:\n",
    "                signal_value = 0\n",
    "        else:\n",
    "            signal_value = 0\n",
    "\n",
    "        # Assign the signal for the next `trading_hours` periods starting at t+1\n",
    "        for j in range(1, trading_hours + 1):\n",
    "            if i + j < n:\n",
    "                signals.iloc[i + j] = signal_value\n",
    "\n",
    "        i += trading_hours  # jump ahead by trading_hours for next decision\n",
    "\n",
    "    # Make sure to start from valid_start only\n",
    "    signals = signals.loc[signals.index >= valid_start]\n",
    "\n",
    "    returns = price.pct_change().loc[lambda x: x.index >= valid_start]\n",
    "    portfolio_returns = returns * signals\n",
    "    portfolio_returns = portfolio_returns.fillna(0)\n",
    "\n",
    "    equity_values = np.ones(len(portfolio_returns))\n",
    "    peak_values = np.ones(len(portfolio_returns))\n",
    "    active_flags = np.ones(len(portfolio_returns), dtype=bool)\n",
    "\n",
    "    for i in range(1, len(portfolio_returns)):\n",
    "        if active_flags[i - 1]:\n",
    "            equity_values[i] = equity_values[i - 1] * (1 + portfolio_returns.iloc[i])\n",
    "            peak_values[i] = max(peak_values[i - 1], equity_values[i])\n",
    "            if (equity_values[i] / peak_values[i] - 1) < -stop_loss:\n",
    "                active_flags[i] = False\n",
    "            else:\n",
    "                active_flags[i] = True\n",
    "        else:\n",
    "            if portfolio_returns.iloc[i] != 0:\n",
    "                active_flags[i] = True\n",
    "                equity_values[i] = equity_values[i - 1] * (1 + portfolio_returns.iloc[i])\n",
    "                peak_values[i] = equity_values[i]\n",
    "            else:\n",
    "                active_flags[i] = False\n",
    "                equity_values[i] = equity_values[i - 1]\n",
    "                peak_values[i] = peak_values[i - 1]\n",
    "\n",
    "    cumulative_returns = pd.Series(equity_values, index=portfolio_returns.index)\n",
    "    final_return = cumulative_returns.iloc[-1] - 1\n",
    "    running_maximum = cumulative_returns.expanding().max()\n",
    "    drawdown = ((cumulative_returns - running_maximum) / running_maximum).min()\n",
    "\n",
    "    decision_df = pd.DataFrame({\n",
    "        \"equity\": cumulative_returns,\n",
    "        \"position\": signals.map({1: \"long\", -1: \"short\", 0: \"none\"}),\n",
    "        \"signal\": signals,\n",
    "        \"price\": price.loc[cumulative_returns.index],\n",
    "        \"momentum\": momentum.loc[cumulative_returns.index]\n",
    "    })\n",
    "\n",
    "    # return final_return, drawdown, decision_df\n",
    "    return final_return, drawdown"
   ]
  },
  {
   "cell_type": "markdown",
   "id": "08e150be",
   "metadata": {},
   "source": [
    "# Unit test"
   ]
  },
  {
   "cell_type": "code",
   "execution_count": 31,
   "id": "728fe74c",
   "metadata": {},
   "outputs": [
    {
     "name": "stdout",
     "output_type": "stream",
     "text": [
      "Lookback: 4, Resample: 4H | Return: -1.28%, Drawdown: -41.95%\n"
     ]
    }
   ],
   "source": [
    "lookback = 4\n",
    "resample_hours = 4\n",
    "final_return, drawdown = run_backtest(lookback, resample_hours)\n",
    "\n",
    "print(f\"Lookback: {lookback}, Resample: {resample_hours}H | \"\n",
    "        f\"Return: {final_return*100:.2f}%, Drawdown: {drawdown*100:.2f}%\")"
   ]
  },
  {
   "cell_type": "markdown",
   "id": "c4756352",
   "metadata": {},
   "source": [
    "# Test Loop"
   ]
  },
  {
   "cell_type": "code",
   "execution_count": 45,
   "id": "140dec45",
   "metadata": {},
   "outputs": [],
   "source": [
    "def run_grid_search():\n",
    "    results = []\n",
    "    for lookback in range(6, 13):\n",
    "        for resample_hours in range(6, 13):\n",
    "            final_return, drawdown = run_backtest(lookback, resample_hours)\n",
    "            results.append({\n",
    "                'lookback': lookback,\n",
    "                'resample_hours': resample_hours,\n",
    "                'final_return': final_return,\n",
    "                'max_drawdown': drawdown\n",
    "            })\n",
    "            #print(f\"Lookback: {lookback}, n_top: {n_top}, Resample: {resample_hours}H | \"\n",
    "            #      f\"Return: {final_return*100:.2f}%, Drawdown: {drawdown*100:.2f}%\")\n",
    "    results_df = pd.DataFrame(results).sort_values(by=\"final_return\", ascending=False).reset_index(drop=True)\n",
    "    return results_df"
   ]
  },
  {
   "cell_type": "markdown",
   "id": "f4714881",
   "metadata": {},
   "source": [
    "# Test weekly"
   ]
  },
  {
   "cell_type": "code",
   "execution_count": 46,
   "id": "00f9284f",
   "metadata": {},
   "outputs": [
    {
     "name": "stdout",
     "output_type": "stream",
     "text": [
      "train:  14 \ttest:  14\n",
      "Lookback: 9, Resample: 12H | Return: 12.12%, Drawdown: -4.17%, Total: 112.12%\n",
      "Lookback: 11, Resample: 7H | Return: -5.84%, Drawdown: -11.00%, Total: 105.57%\n",
      "Lookback: 6, Resample: 9H | Return: -12.70%, Drawdown: -14.65%, Total: 92.17%\n",
      "Lookback: 10, Resample: 9H | Return: 2.92%, Drawdown: -9.44%, Total: 94.86%\n",
      "Lookback: 7, Resample: 11H | Return: 12.58%, Drawdown: -9.32%, Total: 106.79%\n",
      "Lookback: 11, Resample: 12H | Return: -6.96%, Drawdown: -10.88%, Total: 99.36%\n",
      "Lookback: 7, Resample: 9H | Return: 1.56%, Drawdown: -14.38%, Total: 100.91%\n",
      "Lookback: 11, Resample: 6H | Return: 1.27%, Drawdown: -12.94%, Total: 102.19%\n",
      "Lookback: 7, Resample: 10H | Return: 3.72%, Drawdown: -6.83%, Total: 106.00%\n",
      "Lookback: 12, Resample: 10H | Return: -2.44%, Drawdown: -7.45%, Total: 103.41%\n",
      "Lookback: 6, Resample: 7H | Return: -3.79%, Drawdown: -9.08%, Total: 99.49%\n",
      "Lookback: 6, Resample: 10H | Return: 5.77%, Drawdown: -4.35%, Total: 105.24%\n",
      "Lookback: 7, Resample: 8H | Return: 6.64%, Drawdown: -4.84%, Total: 112.22%\n",
      "Lookback: 10, Resample: 11H | Return: 3.04%, Drawdown: -5.47%, Total: 115.63%\n",
      "Lookback: 7, Resample: 7H | Return: 12.18%, Drawdown: -12.78%, Total: 129.72%\n",
      "Lookback: 11, Resample: 7H | Return: 15.28%, Drawdown: -6.31%, Total: 149.53%\n",
      "Lookback: 10, Resample: 12H | Return: -12.57%, Drawdown: -14.80%, Total: 130.74%\n",
      "Lookback: 7, Resample: 12H | Return: 12.46%, Drawdown: -3.82%, Total: 147.04%\n",
      "Lookback: 10, Resample: 8H | Return: -2.77%, Drawdown: -9.20%, Total: 142.96%\n",
      "Lookback: 6, Resample: 12H | Return: 2.09%, Drawdown: -5.18%, Total: 145.94%\n"
     ]
    },
    {
     "ename": "KeyboardInterrupt",
     "evalue": "",
     "output_type": "error",
     "traceback": [
      "\u001b[1;31m---------------------------------------------------------------------------\u001b[0m",
      "\u001b[1;31mKeyboardInterrupt\u001b[0m                         Traceback (most recent call last)",
      "Cell \u001b[1;32mIn[46], line 15\u001b[0m\n\u001b[0;32m     12\u001b[0m df_test \u001b[38;5;241m=\u001b[39m df_all\u001b[38;5;241m.\u001b[39miloc[test_start:test_end]\n\u001b[0;32m     14\u001b[0m df \u001b[38;5;241m=\u001b[39m df_train\n\u001b[1;32m---> 15\u001b[0m results_df \u001b[38;5;241m=\u001b[39m run_grid_search()\n\u001b[0;32m     17\u001b[0m lookback \u001b[38;5;241m=\u001b[39m results_df\u001b[38;5;241m.\u001b[39mloc[\u001b[38;5;241m0\u001b[39m, \u001b[38;5;124m'\u001b[39m\u001b[38;5;124mlookback\u001b[39m\u001b[38;5;124m'\u001b[39m]\n\u001b[0;32m     18\u001b[0m resample_hours \u001b[38;5;241m=\u001b[39m results_df\u001b[38;5;241m.\u001b[39mloc[\u001b[38;5;241m0\u001b[39m, \u001b[38;5;124m'\u001b[39m\u001b[38;5;124mresample_hours\u001b[39m\u001b[38;5;124m'\u001b[39m]\n",
      "Cell \u001b[1;32mIn[45], line 5\u001b[0m, in \u001b[0;36mrun_grid_search\u001b[1;34m()\u001b[0m\n\u001b[0;32m      3\u001b[0m \u001b[38;5;28;01mfor\u001b[39;00m lookback \u001b[38;5;129;01min\u001b[39;00m \u001b[38;5;28mrange\u001b[39m(\u001b[38;5;241m6\u001b[39m, \u001b[38;5;241m13\u001b[39m):\n\u001b[0;32m      4\u001b[0m     \u001b[38;5;28;01mfor\u001b[39;00m resample_hours \u001b[38;5;129;01min\u001b[39;00m \u001b[38;5;28mrange\u001b[39m(\u001b[38;5;241m6\u001b[39m, \u001b[38;5;241m13\u001b[39m):\n\u001b[1;32m----> 5\u001b[0m         final_return, drawdown \u001b[38;5;241m=\u001b[39m run_backtest(lookback, resample_hours)\n\u001b[0;32m      6\u001b[0m         results\u001b[38;5;241m.\u001b[39mappend({\n\u001b[0;32m      7\u001b[0m             \u001b[38;5;124m'\u001b[39m\u001b[38;5;124mlookback\u001b[39m\u001b[38;5;124m'\u001b[39m: lookback,\n\u001b[0;32m      8\u001b[0m             \u001b[38;5;124m'\u001b[39m\u001b[38;5;124mresample_hours\u001b[39m\u001b[38;5;124m'\u001b[39m: resample_hours,\n\u001b[0;32m      9\u001b[0m             \u001b[38;5;124m'\u001b[39m\u001b[38;5;124mfinal_return\u001b[39m\u001b[38;5;124m'\u001b[39m: final_return,\n\u001b[0;32m     10\u001b[0m             \u001b[38;5;124m'\u001b[39m\u001b[38;5;124mmax_drawdown\u001b[39m\u001b[38;5;124m'\u001b[39m: drawdown\n\u001b[0;32m     11\u001b[0m         })\n\u001b[0;32m     12\u001b[0m         \u001b[38;5;66;03m#print(f\"Lookback: {lookback}, n_top: {n_top}, Resample: {resample_hours}H | \"\u001b[39;00m\n\u001b[0;32m     13\u001b[0m         \u001b[38;5;66;03m#      f\"Return: {final_return*100:.2f}%, Drawdown: {drawdown*100:.2f}%\")\u001b[39;00m\n",
      "Cell \u001b[1;32mIn[29], line 74\u001b[0m, in \u001b[0;36mrun_backtest\u001b[1;34m(lookback, trading_hours)\u001b[0m\n\u001b[0;32m     72\u001b[0m cumulative_returns \u001b[38;5;241m=\u001b[39m pd\u001b[38;5;241m.\u001b[39mSeries(equity_values, index\u001b[38;5;241m=\u001b[39mportfolio_returns\u001b[38;5;241m.\u001b[39mindex)\n\u001b[0;32m     73\u001b[0m final_return \u001b[38;5;241m=\u001b[39m cumulative_returns\u001b[38;5;241m.\u001b[39miloc[\u001b[38;5;241m-\u001b[39m\u001b[38;5;241m1\u001b[39m] \u001b[38;5;241m-\u001b[39m \u001b[38;5;241m1\u001b[39m\n\u001b[1;32m---> 74\u001b[0m running_maximum \u001b[38;5;241m=\u001b[39m cumulative_returns\u001b[38;5;241m.\u001b[39mexpanding()\u001b[38;5;241m.\u001b[39mmax()\n\u001b[0;32m     75\u001b[0m drawdown \u001b[38;5;241m=\u001b[39m ((cumulative_returns \u001b[38;5;241m-\u001b[39m running_maximum) \u001b[38;5;241m/\u001b[39m running_maximum)\u001b[38;5;241m.\u001b[39mmin()\n\u001b[0;32m     77\u001b[0m decision_df \u001b[38;5;241m=\u001b[39m pd\u001b[38;5;241m.\u001b[39mDataFrame({\n\u001b[0;32m     78\u001b[0m     \u001b[38;5;124m\"\u001b[39m\u001b[38;5;124mequity\u001b[39m\u001b[38;5;124m\"\u001b[39m: cumulative_returns,\n\u001b[0;32m     79\u001b[0m     \u001b[38;5;124m\"\u001b[39m\u001b[38;5;124mposition\u001b[39m\u001b[38;5;124m\"\u001b[39m: signals\u001b[38;5;241m.\u001b[39mmap({\u001b[38;5;241m1\u001b[39m: \u001b[38;5;124m\"\u001b[39m\u001b[38;5;124mlong\u001b[39m\u001b[38;5;124m\"\u001b[39m, \u001b[38;5;241m-\u001b[39m\u001b[38;5;241m1\u001b[39m: \u001b[38;5;124m\"\u001b[39m\u001b[38;5;124mshort\u001b[39m\u001b[38;5;124m\"\u001b[39m, \u001b[38;5;241m0\u001b[39m: \u001b[38;5;124m\"\u001b[39m\u001b[38;5;124mnone\u001b[39m\u001b[38;5;124m\"\u001b[39m}),\n\u001b[1;32m   (...)\u001b[0m\n\u001b[0;32m     82\u001b[0m     \u001b[38;5;124m\"\u001b[39m\u001b[38;5;124mmomentum\u001b[39m\u001b[38;5;124m\"\u001b[39m: momentum\u001b[38;5;241m.\u001b[39mloc[cumulative_returns\u001b[38;5;241m.\u001b[39mindex]\n\u001b[0;32m     83\u001b[0m })\n",
      "File \u001b[1;32mc:\\Users\\1jafa\\anaconda3\\Lib\\site-packages\\pandas\\core\\window\\expanding.py:266\u001b[0m, in \u001b[0;36mExpanding.max\u001b[1;34m(self, numeric_only, engine, engine_kwargs)\u001b[0m\n\u001b[0;32m    245\u001b[0m \u001b[38;5;129m@doc\u001b[39m(\n\u001b[0;32m    246\u001b[0m     template_header,\n\u001b[0;32m    247\u001b[0m     create_section_header(\u001b[38;5;124m\"\u001b[39m\u001b[38;5;124mParameters\u001b[39m\u001b[38;5;124m\"\u001b[39m),\n\u001b[1;32m   (...)\u001b[0m\n\u001b[0;32m    264\u001b[0m     engine_kwargs: \u001b[38;5;28mdict\u001b[39m[\u001b[38;5;28mstr\u001b[39m, \u001b[38;5;28mbool\u001b[39m] \u001b[38;5;241m|\u001b[39m \u001b[38;5;28;01mNone\u001b[39;00m \u001b[38;5;241m=\u001b[39m \u001b[38;5;28;01mNone\u001b[39;00m,\n\u001b[0;32m    265\u001b[0m ):\n\u001b[1;32m--> 266\u001b[0m     \u001b[38;5;28;01mreturn\u001b[39;00m \u001b[38;5;28msuper\u001b[39m()\u001b[38;5;241m.\u001b[39mmax(\n\u001b[0;32m    267\u001b[0m         numeric_only\u001b[38;5;241m=\u001b[39mnumeric_only,\n\u001b[0;32m    268\u001b[0m         engine\u001b[38;5;241m=\u001b[39mengine,\n\u001b[0;32m    269\u001b[0m         engine_kwargs\u001b[38;5;241m=\u001b[39mengine_kwargs,\n\u001b[0;32m    270\u001b[0m     )\n",
      "File \u001b[1;32mc:\\Users\\1jafa\\anaconda3\\Lib\\site-packages\\pandas\\core\\window\\rolling.py:1463\u001b[0m, in \u001b[0;36mRollingAndExpandingMixin.max\u001b[1;34m(self, numeric_only, engine, engine_kwargs)\u001b[0m\n\u001b[0;32m   1461\u001b[0m         \u001b[38;5;28;01mreturn\u001b[39;00m \u001b[38;5;28mself\u001b[39m\u001b[38;5;241m.\u001b[39m_numba_apply(sliding_min_max, engine_kwargs, \u001b[38;5;28;01mTrue\u001b[39;00m)\n\u001b[0;32m   1462\u001b[0m window_func \u001b[38;5;241m=\u001b[39m window_aggregations\u001b[38;5;241m.\u001b[39mroll_max\n\u001b[1;32m-> 1463\u001b[0m \u001b[38;5;28;01mreturn\u001b[39;00m \u001b[38;5;28mself\u001b[39m\u001b[38;5;241m.\u001b[39m_apply(window_func, name\u001b[38;5;241m=\u001b[39m\u001b[38;5;124m\"\u001b[39m\u001b[38;5;124mmax\u001b[39m\u001b[38;5;124m\"\u001b[39m, numeric_only\u001b[38;5;241m=\u001b[39mnumeric_only)\n",
      "File \u001b[1;32mc:\\Users\\1jafa\\anaconda3\\Lib\\site-packages\\pandas\\core\\window\\rolling.py:615\u001b[0m, in \u001b[0;36mBaseWindow._apply\u001b[1;34m(self, func, name, numeric_only, numba_args, **kwargs)\u001b[0m\n\u001b[0;32m    612\u001b[0m     \u001b[38;5;28;01mreturn\u001b[39;00m result\n\u001b[0;32m    614\u001b[0m \u001b[38;5;28;01mif\u001b[39;00m \u001b[38;5;28mself\u001b[39m\u001b[38;5;241m.\u001b[39mmethod \u001b[38;5;241m==\u001b[39m \u001b[38;5;124m\"\u001b[39m\u001b[38;5;124msingle\u001b[39m\u001b[38;5;124m\"\u001b[39m:\n\u001b[1;32m--> 615\u001b[0m     \u001b[38;5;28;01mreturn\u001b[39;00m \u001b[38;5;28mself\u001b[39m\u001b[38;5;241m.\u001b[39m_apply_blockwise(homogeneous_func, name, numeric_only)\n\u001b[0;32m    616\u001b[0m \u001b[38;5;28;01melse\u001b[39;00m:\n\u001b[0;32m    617\u001b[0m     \u001b[38;5;28;01mreturn\u001b[39;00m \u001b[38;5;28mself\u001b[39m\u001b[38;5;241m.\u001b[39m_apply_tablewise(homogeneous_func, name, numeric_only)\n",
      "File \u001b[1;32mc:\\Users\\1jafa\\anaconda3\\Lib\\site-packages\\pandas\\core\\window\\rolling.py:468\u001b[0m, in \u001b[0;36mBaseWindow._apply_blockwise\u001b[1;34m(self, homogeneous_func, name, numeric_only)\u001b[0m\n\u001b[0;32m    466\u001b[0m \u001b[38;5;28mself\u001b[39m\u001b[38;5;241m.\u001b[39m_validate_numeric_only(name, numeric_only)\n\u001b[0;32m    467\u001b[0m \u001b[38;5;28;01mif\u001b[39;00m \u001b[38;5;28mself\u001b[39m\u001b[38;5;241m.\u001b[39m_selected_obj\u001b[38;5;241m.\u001b[39mndim \u001b[38;5;241m==\u001b[39m \u001b[38;5;241m1\u001b[39m:\n\u001b[1;32m--> 468\u001b[0m     \u001b[38;5;28;01mreturn\u001b[39;00m \u001b[38;5;28mself\u001b[39m\u001b[38;5;241m.\u001b[39m_apply_series(homogeneous_func, name)\n\u001b[0;32m    470\u001b[0m obj \u001b[38;5;241m=\u001b[39m \u001b[38;5;28mself\u001b[39m\u001b[38;5;241m.\u001b[39m_create_data(\u001b[38;5;28mself\u001b[39m\u001b[38;5;241m.\u001b[39m_selected_obj, numeric_only)\n\u001b[0;32m    471\u001b[0m \u001b[38;5;28;01mif\u001b[39;00m name \u001b[38;5;241m==\u001b[39m \u001b[38;5;124m\"\u001b[39m\u001b[38;5;124mcount\u001b[39m\u001b[38;5;124m\"\u001b[39m:\n\u001b[0;32m    472\u001b[0m     \u001b[38;5;66;03m# GH 12541: Special case for count where we support date-like types\u001b[39;00m\n",
      "File \u001b[1;32mc:\\Users\\1jafa\\anaconda3\\Lib\\site-packages\\pandas\\core\\window\\rolling.py:452\u001b[0m, in \u001b[0;36mBaseWindow._apply_series\u001b[1;34m(self, homogeneous_func, name)\u001b[0m\n\u001b[0;32m    449\u001b[0m \u001b[38;5;28;01mexcept\u001b[39;00m (\u001b[38;5;167;01mTypeError\u001b[39;00m, \u001b[38;5;167;01mNotImplementedError\u001b[39;00m) \u001b[38;5;28;01mas\u001b[39;00m err:\n\u001b[0;32m    450\u001b[0m     \u001b[38;5;28;01mraise\u001b[39;00m DataError(\u001b[38;5;124m\"\u001b[39m\u001b[38;5;124mNo numeric types to aggregate\u001b[39m\u001b[38;5;124m\"\u001b[39m) \u001b[38;5;28;01mfrom\u001b[39;00m \u001b[38;5;21;01merr\u001b[39;00m\n\u001b[1;32m--> 452\u001b[0m result \u001b[38;5;241m=\u001b[39m homogeneous_func(values)\n\u001b[0;32m    453\u001b[0m index \u001b[38;5;241m=\u001b[39m \u001b[38;5;28mself\u001b[39m\u001b[38;5;241m.\u001b[39m_slice_axis_for_step(obj\u001b[38;5;241m.\u001b[39mindex, result)\n\u001b[0;32m    454\u001b[0m \u001b[38;5;28;01mreturn\u001b[39;00m obj\u001b[38;5;241m.\u001b[39m_constructor(result, index\u001b[38;5;241m=\u001b[39mindex, name\u001b[38;5;241m=\u001b[39mobj\u001b[38;5;241m.\u001b[39mname)\n",
      "File \u001b[1;32mc:\\Users\\1jafa\\anaconda3\\Lib\\site-packages\\pandas\\core\\window\\rolling.py:610\u001b[0m, in \u001b[0;36mBaseWindow._apply.<locals>.homogeneous_func\u001b[1;34m(values)\u001b[0m\n\u001b[0;32m    607\u001b[0m     \u001b[38;5;28;01mreturn\u001b[39;00m func(x, start, end, min_periods, \u001b[38;5;241m*\u001b[39mnumba_args)\n\u001b[0;32m    609\u001b[0m \u001b[38;5;28;01mwith\u001b[39;00m np\u001b[38;5;241m.\u001b[39merrstate(\u001b[38;5;28mall\u001b[39m\u001b[38;5;241m=\u001b[39m\u001b[38;5;124m\"\u001b[39m\u001b[38;5;124mignore\u001b[39m\u001b[38;5;124m\"\u001b[39m):\n\u001b[1;32m--> 610\u001b[0m     result \u001b[38;5;241m=\u001b[39m calc(values)\n\u001b[0;32m    612\u001b[0m \u001b[38;5;28;01mreturn\u001b[39;00m result\n",
      "File \u001b[1;32mc:\\Users\\1jafa\\anaconda3\\Lib\\site-packages\\pandas\\core\\window\\rolling.py:607\u001b[0m, in \u001b[0;36mBaseWindow._apply.<locals>.homogeneous_func.<locals>.calc\u001b[1;34m(x)\u001b[0m\n\u001b[0;32m    598\u001b[0m start, end \u001b[38;5;241m=\u001b[39m window_indexer\u001b[38;5;241m.\u001b[39mget_window_bounds(\n\u001b[0;32m    599\u001b[0m     num_values\u001b[38;5;241m=\u001b[39m\u001b[38;5;28mlen\u001b[39m(x),\n\u001b[0;32m    600\u001b[0m     min_periods\u001b[38;5;241m=\u001b[39mmin_periods,\n\u001b[1;32m   (...)\u001b[0m\n\u001b[0;32m    603\u001b[0m     step\u001b[38;5;241m=\u001b[39m\u001b[38;5;28mself\u001b[39m\u001b[38;5;241m.\u001b[39mstep,\n\u001b[0;32m    604\u001b[0m )\n\u001b[0;32m    605\u001b[0m \u001b[38;5;28mself\u001b[39m\u001b[38;5;241m.\u001b[39m_check_window_bounds(start, end, \u001b[38;5;28mlen\u001b[39m(x))\n\u001b[1;32m--> 607\u001b[0m \u001b[38;5;28;01mreturn\u001b[39;00m func(x, start, end, min_periods, \u001b[38;5;241m*\u001b[39mnumba_args)\n",
      "\u001b[1;31mKeyboardInterrupt\u001b[0m: "
     ]
    }
   ],
   "source": [
    "train_period_days, test_period_days, start_timestamp, total, previous_iteration_return, final_return = 14, 14, 0, 1, 0, 0\n",
    "stop = int(((len(df_all) - 1)/twenty_four_hours - train_period_days)/test_period_days) + 1\n",
    "print(\"train: \", train_period_days, \"\\ttest: \", test_period_days)\n",
    "\n",
    "for i in range(0, stop):\n",
    "    train_start = twenty_four_hours * start_timestamp\n",
    "    train_end = train_start + twenty_four_hours * train_period_days\n",
    "    test_start = train_end\n",
    "    test_end = test_start + twenty_four_hours * test_period_days\n",
    "\n",
    "    df_train = df_all.iloc[train_start:train_end]\n",
    "    df_test = df_all.iloc[test_start:test_end]\n",
    "\n",
    "    df = df_train\n",
    "    results_df = run_grid_search()\n",
    "\n",
    "    lookback = results_df.loc[0, 'lookback']\n",
    "    resample_hours = results_df.loc[0, 'resample_hours']\n",
    "\n",
    "    df = df_test\n",
    "    final_return, drawdown = run_backtest(lookback, resample_hours)\n",
    "\n",
    "    if previous_iteration_return >= 0:\n",
    "        total *= (1 + final_return)\n",
    "    else:\n",
    "        total *= (1 + final_return)\n",
    "\n",
    "    print(f\"Lookback: {lookback}, Resample: {resample_hours}H | \"\n",
    "          f\"Return: {final_return*100:.2f}%, Drawdown: {drawdown*100:.2f}%, Total: {total*100:.2f}%\")\n",
    "\n",
    "    previous_iteration_return = final_return\n",
    "    start_timestamp += test_period_days"
   ]
  },
  {
   "cell_type": "code",
   "execution_count": 32,
   "id": "40380c8e",
   "metadata": {},
   "outputs": [
    {
     "name": "stdout",
     "output_type": "stream",
     "text": [
      "0.0\n",
      "30.0\n",
      "30.0\n",
      "60.0\n",
      "________________________\n",
      "30.0\n",
      "60.0\n",
      "60.0\n",
      "90.0\n",
      "________________________\n",
      "60.0\n",
      "90.0\n",
      "90.0\n",
      "120.0\n",
      "________________________\n",
      "90.0\n",
      "120.0\n",
      "120.0\n",
      "150.0\n",
      "________________________\n",
      "120.0\n",
      "150.0\n",
      "150.0\n",
      "180.0\n",
      "________________________\n",
      "150.0\n",
      "180.0\n",
      "180.0\n",
      "210.0\n",
      "________________________\n",
      "180.0\n",
      "210.0\n",
      "210.0\n",
      "240.0\n",
      "________________________\n",
      "210.0\n",
      "240.0\n",
      "240.0\n",
      "270.0\n",
      "________________________\n",
      "240.0\n",
      "270.0\n",
      "270.0\n",
      "300.0\n",
      "________________________\n",
      "270.0\n",
      "300.0\n",
      "300.0\n",
      "330.0\n",
      "________________________\n"
     ]
    }
   ],
   "source": [
    "train_period_days = 30\n",
    "test_period_days = 30\n",
    "start_timestamp, total, previous_iteration_return, final_return = 0, 1, 0, 0\n",
    "\n",
    "for i in range(0, 10):\n",
    "    train_start = twenty_four_hours * start_timestamp\n",
    "    train_end = train_start + twenty_four_hours * train_period_days\n",
    "    test_start = train_end\n",
    "    test_end = test_start + twenty_four_hours * test_period_days\n",
    "\n",
    "    print(train_start/24)\n",
    "    print(train_end/24)\n",
    "    print(test_start/24)\n",
    "    print(test_end/24)\n",
    "    print('________________________')\n",
    "\n",
    "    start_timestamp += test_period_days\n"
   ]
  },
  {
   "cell_type": "markdown",
   "id": "4359bb73",
   "metadata": {},
   "source": [
    "# Plot"
   ]
  },
  {
   "cell_type": "code",
   "execution_count": 22,
   "id": "d63f5692",
   "metadata": {},
   "outputs": [
    {
     "name": "stdout",
     "output_type": "stream",
     "text": [
      "Lookback: 4, n_top: 1, Resample: 8H | Return: 20.67%, Drawdown: -11.11%\n"
     ]
    }
   ],
   "source": [
    "df = df_all[125*twenty_four_hours:150*twenty_four_hours]\n",
    "\n",
    "lookback = 4\n",
    "n_top = 1\n",
    "resample_hours = 8\n",
    "final_return, drawdown, cumret = run_backtest(lookback, n_top, resample_hours)\n",
    "\n",
    "print(f\"Lookback: {lookback}, n_top: {n_top}, Resample: {resample_hours}H | \"\n",
    "        f\"Return: {final_return*100:.2f}%, Drawdown: {drawdown*100:.2f}%\")"
   ]
  },
  {
   "cell_type": "code",
   "execution_count": 23,
   "id": "1c83f52a",
   "metadata": {},
   "outputs": [
    {
     "data": {
      "text/plain": [
       "[<matplotlib.lines.Line2D at 0x2a79c574350>]"
      ]
     },
     "execution_count": 23,
     "metadata": {},
     "output_type": "execute_result"
    },
    {
     "data": {
      "image/png": "[encoded data removed]",
      "text/plain": [
       "<Figure size 640x480 with 1 Axes>"
      ]
     },
     "metadata": {},
     "output_type": "display_data"
    }
   ],
   "source": [
    "import matplotlib.pyplot as plt\n",
    "plt.plot(cumret)"
   ]
  },
  {
   "cell_type": "code",
   "execution_count": null,
   "id": "00a5d805",
   "metadata": {},
   "outputs": [],
   "source": []
  }
 ],
 "metadata": {
  "kernelspec": {
   "display_name": "base",
   "language": "python",
   "name": "python3"
  },
  "language_info": {
   "codemirror_mode": {
    "name": "ipython",
    "version": 3
   },
   "file_extension": ".py",
   "mimetype": "text/x-python",
   "name": "python",
   "nbconvert_exporter": "python",
   "pygments_lexer": "ipython3",
   "version": "3.11.5"
  }
 },
 "nbformat": 4,
 "nbformat_minor": 5
}
